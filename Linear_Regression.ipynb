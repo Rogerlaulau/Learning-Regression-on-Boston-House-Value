{
  "nbformat": 4,
  "nbformat_minor": 0,
  "metadata": {
    "colab": {
      "name": "Linear_Regression.ipynb",
      "provenance": []
    },
    "kernelspec": {
      "name": "python3",
      "display_name": "Python 3"
    },
    "language_info": {
      "name": "python"
    }
  },
  "cells": [
    {
      "cell_type": "code",
      "metadata": {
        "id": "jJMgjvI9bPVd"
      },
      "source": [
        "import pandas as pd\n",
        "import numpy as np\n",
        "\n",
        "# for plotting\n",
        "import matplotlib.pyplot as plt\n",
        "import seaborn as sns\n",
        "\n",
        "# for linear regression\n",
        "from sklearn.linear_model import LinearRegression"
      ],
      "execution_count": 1,
      "outputs": []
    },
    {
      "cell_type": "code",
      "metadata": {
        "id": "x3LJ_WJpbQlq"
      },
      "source": [
        "from sklearn.datasets import load_boston"
      ],
      "execution_count": 8,
      "outputs": []
    },
    {
      "cell_type": "markdown",
      "metadata": {
        "id": "NVtFRoSgcqtO"
      },
      "source": [
        "get the boston house dataset"
      ]
    },
    {
      "cell_type": "code",
      "metadata": {
        "id": "M9ffDwzPbWJU"
      },
      "source": [
        "boston_dataset = load_boston()"
      ],
      "execution_count": 3,
      "outputs": []
    },
    {
      "cell_type": "code",
      "metadata": {
        "id": "RWvbzcyNbfWI"
      },
      "source": [
        "boston = pd.DataFrame(boston_dataset.data, columns=boston_dataset.feature_names)"
      ],
      "execution_count": 6,
      "outputs": []
    },
    {
      "cell_type": "code",
      "metadata": {
        "colab": {
          "base_uri": "https://localhost:8080/",
          "height": 204
        },
        "id": "MjaeePQmbiWf",
        "outputId": "594ae25b-e634-4969-d341-cb9e132ea35c"
      },
      "source": [
        "boston.head()"
      ],
      "execution_count": 7,
      "outputs": [
        {
          "output_type": "execute_result",
          "data": {
            "text/html": [
              "<div>\n",
              "<style scoped>\n",
              "    .dataframe tbody tr th:only-of-type {\n",
              "        vertical-align: middle;\n",
              "    }\n",
              "\n",
              "    .dataframe tbody tr th {\n",
              "        vertical-align: top;\n",
              "    }\n",
              "\n",
              "    .dataframe thead th {\n",
              "        text-align: right;\n",
              "    }\n",
              "</style>\n",
              "<table border=\"1\" class=\"dataframe\">\n",
              "  <thead>\n",
              "    <tr style=\"text-align: right;\">\n",
              "      <th></th>\n",
              "      <th>CRIM</th>\n",
              "      <th>ZN</th>\n",
              "      <th>INDUS</th>\n",
              "      <th>CHAS</th>\n",
              "      <th>NOX</th>\n",
              "      <th>RM</th>\n",
              "      <th>AGE</th>\n",
              "      <th>DIS</th>\n",
              "      <th>RAD</th>\n",
              "      <th>TAX</th>\n",
              "      <th>PTRATIO</th>\n",
              "      <th>B</th>\n",
              "      <th>LSTAT</th>\n",
              "    </tr>\n",
              "  </thead>\n",
              "  <tbody>\n",
              "    <tr>\n",
              "      <th>0</th>\n",
              "      <td>0.00632</td>\n",
              "      <td>18.0</td>\n",
              "      <td>2.31</td>\n",
              "      <td>0.0</td>\n",
              "      <td>0.538</td>\n",
              "      <td>6.575</td>\n",
              "      <td>65.2</td>\n",
              "      <td>4.0900</td>\n",
              "      <td>1.0</td>\n",
              "      <td>296.0</td>\n",
              "      <td>15.3</td>\n",
              "      <td>396.90</td>\n",
              "      <td>4.98</td>\n",
              "    </tr>\n",
              "    <tr>\n",
              "      <th>1</th>\n",
              "      <td>0.02731</td>\n",
              "      <td>0.0</td>\n",
              "      <td>7.07</td>\n",
              "      <td>0.0</td>\n",
              "      <td>0.469</td>\n",
              "      <td>6.421</td>\n",
              "      <td>78.9</td>\n",
              "      <td>4.9671</td>\n",
              "      <td>2.0</td>\n",
              "      <td>242.0</td>\n",
              "      <td>17.8</td>\n",
              "      <td>396.90</td>\n",
              "      <td>9.14</td>\n",
              "    </tr>\n",
              "    <tr>\n",
              "      <th>2</th>\n",
              "      <td>0.02729</td>\n",
              "      <td>0.0</td>\n",
              "      <td>7.07</td>\n",
              "      <td>0.0</td>\n",
              "      <td>0.469</td>\n",
              "      <td>7.185</td>\n",
              "      <td>61.1</td>\n",
              "      <td>4.9671</td>\n",
              "      <td>2.0</td>\n",
              "      <td>242.0</td>\n",
              "      <td>17.8</td>\n",
              "      <td>392.83</td>\n",
              "      <td>4.03</td>\n",
              "    </tr>\n",
              "    <tr>\n",
              "      <th>3</th>\n",
              "      <td>0.03237</td>\n",
              "      <td>0.0</td>\n",
              "      <td>2.18</td>\n",
              "      <td>0.0</td>\n",
              "      <td>0.458</td>\n",
              "      <td>6.998</td>\n",
              "      <td>45.8</td>\n",
              "      <td>6.0622</td>\n",
              "      <td>3.0</td>\n",
              "      <td>222.0</td>\n",
              "      <td>18.7</td>\n",
              "      <td>394.63</td>\n",
              "      <td>2.94</td>\n",
              "    </tr>\n",
              "    <tr>\n",
              "      <th>4</th>\n",
              "      <td>0.06905</td>\n",
              "      <td>0.0</td>\n",
              "      <td>2.18</td>\n",
              "      <td>0.0</td>\n",
              "      <td>0.458</td>\n",
              "      <td>7.147</td>\n",
              "      <td>54.2</td>\n",
              "      <td>6.0622</td>\n",
              "      <td>3.0</td>\n",
              "      <td>222.0</td>\n",
              "      <td>18.7</td>\n",
              "      <td>396.90</td>\n",
              "      <td>5.33</td>\n",
              "    </tr>\n",
              "  </tbody>\n",
              "</table>\n",
              "</div>"
            ],
            "text/plain": [
              "      CRIM    ZN  INDUS  CHAS    NOX  ...  RAD    TAX  PTRATIO       B  LSTAT\n",
              "0  0.00632  18.0   2.31   0.0  0.538  ...  1.0  296.0     15.3  396.90   4.98\n",
              "1  0.02731   0.0   7.07   0.0  0.469  ...  2.0  242.0     17.8  396.90   9.14\n",
              "2  0.02729   0.0   7.07   0.0  0.469  ...  2.0  242.0     17.8  392.83   4.03\n",
              "3  0.03237   0.0   2.18   0.0  0.458  ...  3.0  222.0     18.7  394.63   2.94\n",
              "4  0.06905   0.0   2.18   0.0  0.458  ...  3.0  222.0     18.7  396.90   5.33\n",
              "\n",
              "[5 rows x 13 columns]"
            ]
          },
          "metadata": {
            "tags": []
          },
          "execution_count": 7
        }
      ]
    },
    {
      "cell_type": "code",
      "metadata": {
        "colab": {
          "base_uri": "https://localhost:8080/",
          "height": 204
        },
        "id": "ky_mtzAPbph3",
        "outputId": "8ecdce86-ddac-4987-9af1-7c9e845a7290"
      },
      "source": [
        "# add the target\n",
        "boston['MEDV'] = boston_dataset.target\n",
        "boston.head()"
      ],
      "execution_count": 9,
      "outputs": [
        {
          "output_type": "execute_result",
          "data": {
            "text/html": [
              "<div>\n",
              "<style scoped>\n",
              "    .dataframe tbody tr th:only-of-type {\n",
              "        vertical-align: middle;\n",
              "    }\n",
              "\n",
              "    .dataframe tbody tr th {\n",
              "        vertical-align: top;\n",
              "    }\n",
              "\n",
              "    .dataframe thead th {\n",
              "        text-align: right;\n",
              "    }\n",
              "</style>\n",
              "<table border=\"1\" class=\"dataframe\">\n",
              "  <thead>\n",
              "    <tr style=\"text-align: right;\">\n",
              "      <th></th>\n",
              "      <th>CRIM</th>\n",
              "      <th>ZN</th>\n",
              "      <th>INDUS</th>\n",
              "      <th>CHAS</th>\n",
              "      <th>NOX</th>\n",
              "      <th>RM</th>\n",
              "      <th>AGE</th>\n",
              "      <th>DIS</th>\n",
              "      <th>RAD</th>\n",
              "      <th>TAX</th>\n",
              "      <th>PTRATIO</th>\n",
              "      <th>B</th>\n",
              "      <th>LSTAT</th>\n",
              "      <th>MEDV</th>\n",
              "    </tr>\n",
              "  </thead>\n",
              "  <tbody>\n",
              "    <tr>\n",
              "      <th>0</th>\n",
              "      <td>0.00632</td>\n",
              "      <td>18.0</td>\n",
              "      <td>2.31</td>\n",
              "      <td>0.0</td>\n",
              "      <td>0.538</td>\n",
              "      <td>6.575</td>\n",
              "      <td>65.2</td>\n",
              "      <td>4.0900</td>\n",
              "      <td>1.0</td>\n",
              "      <td>296.0</td>\n",
              "      <td>15.3</td>\n",
              "      <td>396.90</td>\n",
              "      <td>4.98</td>\n",
              "      <td>24.0</td>\n",
              "    </tr>\n",
              "    <tr>\n",
              "      <th>1</th>\n",
              "      <td>0.02731</td>\n",
              "      <td>0.0</td>\n",
              "      <td>7.07</td>\n",
              "      <td>0.0</td>\n",
              "      <td>0.469</td>\n",
              "      <td>6.421</td>\n",
              "      <td>78.9</td>\n",
              "      <td>4.9671</td>\n",
              "      <td>2.0</td>\n",
              "      <td>242.0</td>\n",
              "      <td>17.8</td>\n",
              "      <td>396.90</td>\n",
              "      <td>9.14</td>\n",
              "      <td>21.6</td>\n",
              "    </tr>\n",
              "    <tr>\n",
              "      <th>2</th>\n",
              "      <td>0.02729</td>\n",
              "      <td>0.0</td>\n",
              "      <td>7.07</td>\n",
              "      <td>0.0</td>\n",
              "      <td>0.469</td>\n",
              "      <td>7.185</td>\n",
              "      <td>61.1</td>\n",
              "      <td>4.9671</td>\n",
              "      <td>2.0</td>\n",
              "      <td>242.0</td>\n",
              "      <td>17.8</td>\n",
              "      <td>392.83</td>\n",
              "      <td>4.03</td>\n",
              "      <td>34.7</td>\n",
              "    </tr>\n",
              "    <tr>\n",
              "      <th>3</th>\n",
              "      <td>0.03237</td>\n",
              "      <td>0.0</td>\n",
              "      <td>2.18</td>\n",
              "      <td>0.0</td>\n",
              "      <td>0.458</td>\n",
              "      <td>6.998</td>\n",
              "      <td>45.8</td>\n",
              "      <td>6.0622</td>\n",
              "      <td>3.0</td>\n",
              "      <td>222.0</td>\n",
              "      <td>18.7</td>\n",
              "      <td>394.63</td>\n",
              "      <td>2.94</td>\n",
              "      <td>33.4</td>\n",
              "    </tr>\n",
              "    <tr>\n",
              "      <th>4</th>\n",
              "      <td>0.06905</td>\n",
              "      <td>0.0</td>\n",
              "      <td>2.18</td>\n",
              "      <td>0.0</td>\n",
              "      <td>0.458</td>\n",
              "      <td>7.147</td>\n",
              "      <td>54.2</td>\n",
              "      <td>6.0622</td>\n",
              "      <td>3.0</td>\n",
              "      <td>222.0</td>\n",
              "      <td>18.7</td>\n",
              "      <td>396.90</td>\n",
              "      <td>5.33</td>\n",
              "      <td>36.2</td>\n",
              "    </tr>\n",
              "  </tbody>\n",
              "</table>\n",
              "</div>"
            ],
            "text/plain": [
              "      CRIM    ZN  INDUS  CHAS    NOX  ...    TAX  PTRATIO       B  LSTAT  MEDV\n",
              "0  0.00632  18.0   2.31   0.0  0.538  ...  296.0     15.3  396.90   4.98  24.0\n",
              "1  0.02731   0.0   7.07   0.0  0.469  ...  242.0     17.8  396.90   9.14  21.6\n",
              "2  0.02729   0.0   7.07   0.0  0.469  ...  242.0     17.8  392.83   4.03  34.7\n",
              "3  0.03237   0.0   2.18   0.0  0.458  ...  222.0     18.7  394.63   2.94  33.4\n",
              "4  0.06905   0.0   2.18   0.0  0.458  ...  222.0     18.7  396.90   5.33  36.2\n",
              "\n",
              "[5 rows x 14 columns]"
            ]
          },
          "metadata": {
            "tags": []
          },
          "execution_count": 9
        }
      ]
    },
    {
      "cell_type": "code",
      "metadata": {
        "colab": {
          "base_uri": "https://localhost:8080/"
        },
        "id": "kHUPbobudMd0",
        "outputId": "e7d5592f-e8fc-4a45-d08a-cbf64a5d3efd"
      },
      "source": [
        "print(boston_dataset.DESCR)"
      ],
      "execution_count": 10,
      "outputs": [
        {
          "output_type": "stream",
          "text": [
            ".. _boston_dataset:\n",
            "\n",
            "Boston house prices dataset\n",
            "---------------------------\n",
            "\n",
            "**Data Set Characteristics:**  \n",
            "\n",
            "    :Number of Instances: 506 \n",
            "\n",
            "    :Number of Attributes: 13 numeric/categorical predictive. Median Value (attribute 14) is usually the target.\n",
            "\n",
            "    :Attribute Information (in order):\n",
            "        - CRIM     per capita crime rate by town\n",
            "        - ZN       proportion of residential land zoned for lots over 25,000 sq.ft.\n",
            "        - INDUS    proportion of non-retail business acres per town\n",
            "        - CHAS     Charles River dummy variable (= 1 if tract bounds river; 0 otherwise)\n",
            "        - NOX      nitric oxides concentration (parts per 10 million)\n",
            "        - RM       average number of rooms per dwelling\n",
            "        - AGE      proportion of owner-occupied units built prior to 1940\n",
            "        - DIS      weighted distances to five Boston employment centres\n",
            "        - RAD      index of accessibility to radial highways\n",
            "        - TAX      full-value property-tax rate per $10,000\n",
            "        - PTRATIO  pupil-teacher ratio by town\n",
            "        - B        1000(Bk - 0.63)^2 where Bk is the proportion of blacks by town\n",
            "        - LSTAT    % lower status of the population\n",
            "        - MEDV     Median value of owner-occupied homes in $1000's\n",
            "\n",
            "    :Missing Attribute Values: None\n",
            "\n",
            "    :Creator: Harrison, D. and Rubinfeld, D.L.\n",
            "\n",
            "This is a copy of UCI ML housing dataset.\n",
            "https://archive.ics.uci.edu/ml/machine-learning-databases/housing/\n",
            "\n",
            "\n",
            "This dataset was taken from the StatLib library which is maintained at Carnegie Mellon University.\n",
            "\n",
            "The Boston house-price data of Harrison, D. and Rubinfeld, D.L. 'Hedonic\n",
            "prices and the demand for clean air', J. Environ. Economics & Management,\n",
            "vol.5, 81-102, 1978.   Used in Belsley, Kuh & Welsch, 'Regression diagnostics\n",
            "...', Wiley, 1980.   N.B. Various transformations are used in the table on\n",
            "pages 244-261 of the latter.\n",
            "\n",
            "The Boston house-price data has been used in many machine learning papers that address regression\n",
            "problems.   \n",
            "     \n",
            ".. topic:: References\n",
            "\n",
            "   - Belsley, Kuh & Welsch, 'Regression diagnostics: Identifying Influential Data and Sources of Collinearity', Wiley, 1980. 244-261.\n",
            "   - Quinlan,R. (1993). Combining Instance-Based and Model-Based Learning. In Proceedings on the Tenth International Conference of Machine Learning, 236-243, University of Massachusetts, Amherst. Morgan Kaufmann.\n",
            "\n"
          ],
          "name": "stdout"
        }
      ]
    },
    {
      "cell_type": "code",
      "metadata": {
        "id": "DhrhykYGf0Bx"
      },
      "source": [
        "np.random.seed(29)"
      ],
      "execution_count": 11,
      "outputs": []
    },
    {
      "cell_type": "code",
      "metadata": {
        "id": "GSYa8MvUhcH2"
      },
      "source": [
        "n = 200"
      ],
      "execution_count": 12,
      "outputs": []
    },
    {
      "cell_type": "code",
      "metadata": {
        "id": "IgZ0k_DQhem2"
      },
      "source": [
        "x = np.random.randn(n)"
      ],
      "execution_count": 13,
      "outputs": []
    },
    {
      "cell_type": "code",
      "metadata": {
        "colab": {
          "base_uri": "https://localhost:8080/"
        },
        "id": "wBmytMARhgwO",
        "outputId": "c2093a43-4fda-412b-f584-d6114c6aa84c"
      },
      "source": [
        "x"
      ],
      "execution_count": 14,
      "outputs": [
        {
          "output_type": "execute_result",
          "data": {
            "text/plain": [
              "array([-0.41748213,  0.7060321 ,  1.9159847 , -2.1417555 ,  0.71905689,\n",
              "        0.46707262,  0.76672253,  0.88200945,  0.80875066, -0.94716485,\n",
              "       -0.12903843, -0.63086044, -1.43842284,  0.65220495,  0.98494561,\n",
              "       -1.1444064 ,  0.38683645,  0.4265849 ,  2.10646128, -0.19786553,\n",
              "       -0.2484003 ,  1.71381789, -0.27356624,  1.34747596,  0.34321934,\n",
              "       -0.89567509,  2.11825131, -0.28609779,  0.24322882, -0.61897527,\n",
              "        1.63784998, -0.05811961, -1.83694028, -0.7785032 ,  0.83320023,\n",
              "       -0.04428776,  0.55439513, -0.4084749 , -0.46409435,  0.41800894,\n",
              "        0.57453712, -1.74668412,  1.38228917, -1.26331079, -0.25736174,\n",
              "       -0.96723108, -1.20666907,  2.66861402, -2.47113964,  0.07261643,\n",
              "       -0.40761335, -1.14510085, -2.32342938,  0.08442342,  0.71087449,\n",
              "        0.82788128, -1.59302662, -0.5079899 ,  2.55114425, -1.68596461,\n",
              "       -0.47842946,  1.17949062, -0.00697292,  0.98764392,  0.22076528,\n",
              "       -0.06161137, -1.03826422, -0.29860915,  0.37449239,  0.84802006,\n",
              "       -1.09539576, -0.41272231, -1.22820766,  0.92439358,  0.23261627,\n",
              "       -0.64493688,  0.3318164 ,  1.57982212,  1.50554664,  0.46108256,\n",
              "       -3.50540144,  0.17808984, -0.03782814,  0.83119576, -0.52194566,\n",
              "       -1.24103811,  0.23385459, -1.08274886,  0.24367168,  0.66858507,\n",
              "        1.29696349,  0.99062627,  1.89088641, -0.31756113, -0.1692602 ,\n",
              "       -2.31076975, -0.55949954,  0.19711825,  1.71137105,  0.25394272,\n",
              "        1.88132975, -0.9104608 , -1.60892029,  0.52954982, -0.43969747,\n",
              "       -0.11137613,  2.1984452 , -0.5756465 ,  0.28603782,  1.10089254,\n",
              "       -0.8824175 , -1.18493165,  0.2397606 , -0.71091761,  1.74410287,\n",
              "        0.67688325,  1.14835421,  1.10861613,  0.18297961, -0.34242482,\n",
              "        0.09260824,  0.17252557, -0.72360451,  0.23231358, -0.85709313,\n",
              "        1.25644024, -0.60153313,  0.79602256, -0.12575   , -0.32786541,\n",
              "        0.09826019,  0.26879829, -1.0183898 ,  0.49804058,  0.47310501,\n",
              "       -0.42978209,  0.36352589,  0.60432165, -1.13384251, -0.82415533,\n",
              "       -1.39407718, -0.65038898, -0.55004437, -0.22063437, -0.57429247,\n",
              "       -0.78794866,  0.03147863, -0.88157061,  0.07335102, -0.03084551,\n",
              "        0.67429943, -1.59026607,  0.27076498, -0.03217659,  0.1449159 ,\n",
              "        1.17840499, -0.08181883, -0.75478285, -2.60519783, -0.50118753,\n",
              "        0.77021706, -0.63137292, -0.82447747, -0.24807806, -0.08570506,\n",
              "        0.59577133,  0.54939105,  1.44566035,  0.07159586, -0.29511184,\n",
              "        0.19106855, -0.39036668,  0.45118492, -0.71866011,  0.36110607,\n",
              "       -0.26069795,  0.05310938,  1.45080133, -0.1807666 ,  0.68998302,\n",
              "        0.32864807,  0.01583799, -1.75590638, -0.73635199,  0.68673438,\n",
              "       -1.72269262, -0.55110239,  0.03698584, -0.5694227 ,  0.58429396,\n",
              "       -0.36532479, -0.17078495,  2.3882313 ,  0.21786041, -0.65240352,\n",
              "        0.77285625,  0.9841542 ,  0.14873645,  0.33170631,  0.40506245])"
            ]
          },
          "metadata": {
            "tags": []
          },
          "execution_count": 14
        }
      ]
    },
    {
      "cell_type": "code",
      "metadata": {
        "id": "K7kRgmdHhhWf"
      },
      "source": [
        "y = x * 10 + np.random.randn(n) * 2"
      ],
      "execution_count": 15,
      "outputs": []
    },
    {
      "cell_type": "code",
      "metadata": {
        "colab": {
          "base_uri": "https://localhost:8080/"
        },
        "id": "FaWzMc91hkzM",
        "outputId": "37670b3c-a319-4bf2-f306-135834953762"
      },
      "source": [
        "y"
      ],
      "execution_count": 16,
      "outputs": [
        {
          "output_type": "execute_result",
          "data": {
            "text/plain": [
              "array([-1.27156123e+00,  7.99059976e+00,  1.98486874e+01, -2.19289028e+01,\n",
              "        5.57906972e+00,  3.71332303e+00,  5.52974425e+00,  5.69849836e+00,\n",
              "        6.06961687e+00, -1.06978171e+01, -6.19183571e+00, -3.92516137e+00,\n",
              "       -1.62849879e+01,  3.84159425e+00,  9.53395418e+00, -1.09399832e+01,\n",
              "        5.30903568e+00,  5.51747996e+00,  2.15019040e+01, -4.55230737e+00,\n",
              "       -5.33143408e+00,  1.67750657e+01, -3.70040475e+00,  1.47716230e+01,\n",
              "        5.63108835e-01, -7.08489586e+00,  2.09775494e+01, -5.90283157e+00,\n",
              "        3.39900771e+00, -7.09370309e+00,  1.98256205e+01,  8.95849572e-01,\n",
              "       -1.54599159e+01, -5.32469918e+00,  1.06904639e+01,  4.19909882e-02,\n",
              "        3.66857372e+00, -3.19911994e+00, -2.85613119e+00,  9.45815207e-01,\n",
              "        5.84119698e+00, -1.86440086e+01,  1.58219467e+01, -1.30782422e+01,\n",
              "       -4.47367719e+00, -1.04413754e+01, -9.13030428e+00,  2.29949809e+01,\n",
              "       -2.75758231e+01,  1.58979356e+00, -8.06613163e+00, -1.09266183e+01,\n",
              "       -2.24482209e+01,  1.22223923e+00,  5.23755634e+00,  7.39134372e+00,\n",
              "       -1.64079239e+01, -4.94942065e+00,  2.64070393e+01, -1.97464230e+01,\n",
              "       -5.19884518e+00,  1.50023924e+01,  3.00375168e+00,  1.02852682e+01,\n",
              "        4.64725576e+00,  4.77325571e-01, -1.31504071e+01, -3.27496596e+00,\n",
              "        1.56723200e+00,  7.83994566e+00, -9.93158083e+00, -6.50081944e+00,\n",
              "       -1.41116218e+01,  7.34914427e+00, -2.25812185e+00, -8.02821167e+00,\n",
              "       -1.32578910e-02,  1.53700639e+01,  1.66885937e+01,  6.18989360e-01,\n",
              "       -3.37371405e+01,  3.10168726e+00, -7.16176434e-01,  6.40341939e+00,\n",
              "       -6.15626612e+00, -1.37518450e+01,  5.43185282e+00, -8.87954957e+00,\n",
              "        4.91697692e+00,  3.34032661e+00,  1.27563815e+01,  1.12689565e+01,\n",
              "        1.50065127e+01, -6.80260510e+00, -4.63794345e-01, -2.46732731e+01,\n",
              "       -6.09955032e+00,  7.20122910e+00,  1.87015374e+01,  4.63223354e+00,\n",
              "        2.02229917e+01, -6.72870806e+00, -1.73880932e+01,  7.59587814e+00,\n",
              "       -4.17880485e+00, -3.65375144e+00,  2.16670475e+01, -9.35708739e+00,\n",
              "        6.66076687e+00,  1.73138508e+01, -1.16045040e+01, -1.10575685e+01,\n",
              "        3.57660100e+00, -6.41913545e+00,  1.87858843e+01,  6.65615075e+00,\n",
              "        1.63418193e+01,  9.78651739e+00,  2.05287534e+00, -2.48470870e+00,\n",
              "        1.68581083e+00, -5.86129783e-01, -8.59700841e+00,  1.58876036e+00,\n",
              "       -1.09791917e+01,  1.30245390e+01, -4.90734348e+00,  5.47634084e+00,\n",
              "       -2.74339493e+00, -5.51896014e+00, -2.47764117e-01,  2.91095624e+00,\n",
              "       -7.41615644e+00,  9.67926462e+00,  4.62537111e+00, -4.39673455e+00,\n",
              "        1.56372140e+00,  6.74056593e+00, -9.19029028e+00, -7.12604553e+00,\n",
              "       -1.44147065e+01, -5.87511598e+00, -5.04671327e+00, -3.04118139e+00,\n",
              "       -9.44329116e+00, -1.18695625e+01,  5.61297676e-01, -6.73329836e+00,\n",
              "        3.93009377e+00,  7.77109544e-01,  7.67184232e+00, -1.84763102e+01,\n",
              "        2.43563209e+00, -8.43024586e-01,  2.43662212e+00,  1.38679093e+01,\n",
              "       -2.50807712e+00, -9.01645440e+00, -2.19805707e+01, -1.73846408e+00,\n",
              "        8.98349244e+00, -8.86139562e+00, -6.12568161e+00, -1.64130945e+00,\n",
              "       -9.07600933e-01,  7.42303375e+00,  4.50124884e+00,  1.47028612e+01,\n",
              "       -2.14864190e+00, -1.68162829e+00, -6.56617355e-01, -6.03204004e+00,\n",
              "        4.91682014e+00, -6.02523428e+00,  5.01586473e+00, -3.42670085e+00,\n",
              "        2.19155742e+00,  1.44437655e+01,  2.30719333e-01,  6.33563219e+00,\n",
              "        1.04866504e+00, -1.92162544e+00, -1.80382022e+01, -9.86707969e+00,\n",
              "        9.27901335e+00, -1.49592445e+01, -8.04100673e+00, -5.74185293e-02,\n",
              "       -6.13903735e+00,  5.08473500e+00, -2.52595438e+00, -2.41137009e+00,\n",
              "        2.30441385e+01,  3.94946753e+00, -5.45256003e+00,  7.20563250e+00,\n",
              "        1.10395248e+01,  8.85182834e-01,  3.22166791e+00,  3.47359812e+00])"
            ]
          },
          "metadata": {
            "tags": []
          },
          "execution_count": 16
        }
      ]
    },
    {
      "cell_type": "code",
      "metadata": {
        "colab": {
          "base_uri": "https://localhost:8080/",
          "height": 204
        },
        "id": "ucjt5Zv1hlgM",
        "outputId": "d3443d52-3022-45e4-cd85-a57a2d3c9df1"
      },
      "source": [
        "data = pd.DataFrame([x, y]).T\n",
        "data.columns = ['x', 'y']\n",
        "data.head()"
      ],
      "execution_count": 17,
      "outputs": [
        {
          "output_type": "execute_result",
          "data": {
            "text/html": [
              "<div>\n",
              "<style scoped>\n",
              "    .dataframe tbody tr th:only-of-type {\n",
              "        vertical-align: middle;\n",
              "    }\n",
              "\n",
              "    .dataframe tbody tr th {\n",
              "        vertical-align: top;\n",
              "    }\n",
              "\n",
              "    .dataframe thead th {\n",
              "        text-align: right;\n",
              "    }\n",
              "</style>\n",
              "<table border=\"1\" class=\"dataframe\">\n",
              "  <thead>\n",
              "    <tr style=\"text-align: right;\">\n",
              "      <th></th>\n",
              "      <th>x</th>\n",
              "      <th>y</th>\n",
              "    </tr>\n",
              "  </thead>\n",
              "  <tbody>\n",
              "    <tr>\n",
              "      <th>0</th>\n",
              "      <td>-0.417482</td>\n",
              "      <td>-1.271561</td>\n",
              "    </tr>\n",
              "    <tr>\n",
              "      <th>1</th>\n",
              "      <td>0.706032</td>\n",
              "      <td>7.990600</td>\n",
              "    </tr>\n",
              "    <tr>\n",
              "      <th>2</th>\n",
              "      <td>1.915985</td>\n",
              "      <td>19.848687</td>\n",
              "    </tr>\n",
              "    <tr>\n",
              "      <th>3</th>\n",
              "      <td>-2.141755</td>\n",
              "      <td>-21.928903</td>\n",
              "    </tr>\n",
              "    <tr>\n",
              "      <th>4</th>\n",
              "      <td>0.719057</td>\n",
              "      <td>5.579070</td>\n",
              "    </tr>\n",
              "  </tbody>\n",
              "</table>\n",
              "</div>"
            ],
            "text/plain": [
              "          x          y\n",
              "0 -0.417482  -1.271561\n",
              "1  0.706032   7.990600\n",
              "2  1.915985  19.848687\n",
              "3 -2.141755 -21.928903\n",
              "4  0.719057   5.579070"
            ]
          },
          "metadata": {
            "tags": []
          },
          "execution_count": 17
        }
      ]
    },
    {
      "cell_type": "code",
      "metadata": {
        "colab": {
          "base_uri": "https://localhost:8080/",
          "height": 400
        },
        "id": "Z6waxOxmhpil",
        "outputId": "4dd39ed6-7a31-43d7-d198-265727b3017d"
      },
      "source": [
        "sns.lmplot(x=\"x\", y=\"y\", data=data, order=1)\n",
        "\n",
        "plt.ylabel('Target')\n",
        "plt.xlabel('Independent variable')"
      ],
      "execution_count": 18,
      "outputs": [
        {
          "output_type": "execute_result",
          "data": {
            "text/plain": [
              "Text(0.5, 6.79999999999999, 'Independent variable')"
            ]
          },
          "metadata": {
            "tags": []
          },
          "execution_count": 18
        },
        {
          "output_type": "display_data",
          "data": {
            "image/png": "[encoded data removed]",
            "text/plain": [
              "<Figure size 360x360 with 1 Axes>"
            ]
          },
          "metadata": {
            "tags": [],
            "needs_background": "light"
          }
        }
      ]
    },
    {
      "cell_type": "code",
      "metadata": {
        "colab": {
          "base_uri": "https://localhost:8080/",
          "height": 400
        },
        "id": "eld9hoIhh1Fn",
        "outputId": "4ede9e1a-d246-4163-c2b4-bea14c284d34"
      },
      "source": [
        "sns.lmplot(x=\"LSTAT\", y=\"MEDV\", data=boston, order=1)"
      ],
      "execution_count": 19,
      "outputs": [
        {
          "output_type": "execute_result",
          "data": {
            "text/plain": [
              "<seaborn.axisgrid.FacetGrid at 0x7f64f12ef4d0>"
            ]
          },
          "metadata": {
            "tags": []
          },
          "execution_count": 19
        },
        {
          "output_type": "display_data",
          "data": {
            "image/png": "[encoded data removed]",
            "text/plain": [
              "<Figure size 360x360 with 1 Axes>"
            ]
          },
          "metadata": {
            "tags": [],
            "needs_background": "light"
          }
        }
      ]
    },
    {
      "cell_type": "code",
      "metadata": {
        "colab": {
          "base_uri": "https://localhost:8080/",
          "height": 400
        },
        "id": "qCYsVh5Uh-1H",
        "outputId": "82d7cf33-c957-4d30-f387-b7e5bd1fc260"
      },
      "source": [
        "sns.lmplot(x=\"CRIM\", y=\"MEDV\", data=boston, order=1)"
      ],
      "execution_count": 20,
      "outputs": [
        {
          "output_type": "execute_result",
          "data": {
            "text/plain": [
              "<seaborn.axisgrid.FacetGrid at 0x7f64e8cb0490>"
            ]
          },
          "metadata": {
            "tags": []
          },
          "execution_count": 20
        },
        {
          "output_type": "display_data",
          "data": {
            "image/png": "[encoded data removed]",
            "text/plain": [
              "<Figure size 360x360 with 1 Axes>"
            ]
          },
          "metadata": {
            "tags": [],
            "needs_background": "light"
          }
        }
      ]
    },
    {
      "cell_type": "code",
      "metadata": {
        "id": "FeWAjy8ziGIE"
      },
      "source": [
        "linreg = LinearRegression()\n"
      ],
      "execution_count": 21,
      "outputs": []
    },
    {
      "cell_type": "code",
      "metadata": {
        "colab": {
          "base_uri": "https://localhost:8080/"
        },
        "id": "IDmHn-cBiJKB",
        "outputId": "fbc2a65a-62cb-4497-afd3-9fe11832d4cb"
      },
      "source": [
        "# fit the model\n",
        "linreg.fit(data['x'].to_frame(), data['y'])"
      ],
      "execution_count": 22,
      "outputs": [
        {
          "output_type": "execute_result",
          "data": {
            "text/plain": [
              "LinearRegression(copy_X=True, fit_intercept=True, n_jobs=None, normalize=False)"
            ]
          },
          "metadata": {
            "tags": []
          },
          "execution_count": 22
        }
      ]
    },
    {
      "cell_type": "code",
      "metadata": {
        "id": "K4eTCyzciMHn"
      },
      "source": [
        "pred = linreg.predict(data['x'].to_frame())"
      ],
      "execution_count": 23,
      "outputs": []
    },
    {
      "cell_type": "code",
      "metadata": {
        "colab": {
          "base_uri": "https://localhost:8080/"
        },
        "id": "qJ8Cb3xAiOed",
        "outputId": "57d63ca1-0dcc-429d-a880-6c2a5b7215e2"
      },
      "source": [
        "pred"
      ],
      "execution_count": 24,
      "outputs": [
        {
          "output_type": "execute_result",
          "data": {
            "text/plain": [
              "array([ -4.31267193,   7.02628565,  19.23761417, -21.71473253,\n",
              "         7.15773711,   4.61461042,   7.63879794,   8.80231985,\n",
              "         8.06296271,  -9.65844307,  -1.40158213,  -6.46617171,\n",
              "       -14.61641634,   6.48304039,   9.841193  , -11.64908421,\n",
              "         3.80483473,   4.20599206,  21.15998039,  -2.09621288,\n",
              "        -2.60623008,  17.19726539,  -2.86021486,  13.4999952 ,\n",
              "         3.36463337,  -9.13878771,  21.27897014,  -2.98668838,\n",
              "         2.35548874,  -6.34622178,  16.43056662,  -0.68584082,\n",
              "       -18.63841468,  -7.95624181,   8.30971761,  -0.54624427,\n",
              "         5.49590438,  -4.22176734,  -4.7831012 ,   4.11944012,\n",
              "         5.69918543, -17.7275132 ,  13.85134415, -12.84911509,\n",
              "        -2.69667259,  -9.8609596 , -12.27746413,  26.83345205,\n",
              "       -25.03900989,   0.63359985,  -4.21307224, -11.65609283,\n",
              "       -23.54825844,   0.75276076,   7.07515699,   8.25603666,\n",
              "       -16.17673989,  -5.22611279,  25.64789991, -17.11470755,\n",
              "        -4.92777698,  11.80461953,  -0.16964788,   9.86842551,\n",
              "         2.12877769,  -0.72108109, -10.57785455,  -3.11295798,\n",
              "         3.68025353,   8.45928531, -11.15444903,  -4.26463391,\n",
              "       -12.49484026,   9.23007762,   2.24838262,  -6.60823678,\n",
              "         3.24955028,  15.84492616,  15.09530813,   4.55415635,\n",
              "       -35.47719607,   1.69807998,  -0.48105112,   8.28948775,\n",
              "        -5.36695997, -12.62433025,   2.26088023, -11.02681144,\n",
              "         2.35995832,   6.64835523,  12.99020306,   9.89852453,\n",
              "        18.98431206,  -3.304229  ,  -1.80751642, -23.42049238,\n",
              "        -5.74596877,   1.89012235,  17.17257084,   2.46361777,\n",
              "        18.8878624 ,  -9.28801109, -16.33714528,   5.24515552,\n",
              "        -4.53687812,  -1.22332702,  22.08831915,  -5.90893041,\n",
              "         2.78753442,  11.0113761 ,  -9.00498676, -12.05808129,\n",
              "         2.32048606,  -7.27414086,  17.50291359,   6.73210373,\n",
              "        11.49037834,  11.0893257 ,   1.74742955,  -3.55516336,\n",
              "         0.83536529,   1.64192312,  -7.40218216,   2.24532774,\n",
              "        -8.74940305,  12.58122605,  -6.17018869,   7.93450566,\n",
              "        -1.36839389,  -3.40822397,   0.89240703,   2.61354611,\n",
              "       -10.37727391,   4.92715162,   4.67549178,  -4.43680808,\n",
              "         3.56957519,   5.99978294, -11.54246917,  -8.41698152,\n",
              "       -14.16886212,  -6.66326162,  -5.65054345,  -2.32600521,\n",
              "        -5.89526505,  -8.05156929,   0.21842067,  -8.99643961,\n",
              "         0.64101366,  -0.41057962,   6.70602676, -16.14887938,\n",
              "         2.63339474,  -0.42401339,   1.36327524,  11.79366297,\n",
              "        -0.92502292,  -7.71684654, -26.39197902,  -5.15746052,\n",
              "         7.67406614,  -6.47134386,  -8.42023273,  -2.60297794,\n",
              "        -0.96424432,   5.91348964,   5.44540123,  14.49091153,\n",
              "         0.62329994,  -3.0776618 ,   1.82906631,  -4.03901195,\n",
              "         4.45426538,  -7.35228133,   3.54515346,  -2.73034293,\n",
              "         0.43672687,  14.54279645,  -1.92364363,   6.8643119 ,\n",
              "         3.21757417,   0.06056904, -17.82058802,  -7.53083492,\n",
              "         6.83152533, -17.4853814 ,  -5.66122139,   0.27400167,\n",
              "        -5.84611736,   5.79765536,  -3.78627914,  -1.82290474,\n",
              "        24.00371682,   2.09946059,  -6.68359318,   7.70070193,\n",
              "         9.8332058 ,   1.40183374,   3.24843922,   3.98877892])"
            ]
          },
          "metadata": {
            "tags": []
          },
          "execution_count": 24
        }
      ]
    },
    {
      "cell_type": "code",
      "metadata": {
        "id": "GrRB7GzXiPh5"
      },
      "source": [
        "error = data['y'] - pred"
      ],
      "execution_count": 25,
      "outputs": []
    },
    {
      "cell_type": "code",
      "metadata": {
        "colab": {
          "base_uri": "https://localhost:8080/"
        },
        "id": "uImYQIRaiSeR",
        "outputId": "7141cf98-c857-47ac-d2e2-0b78f19261fc"
      },
      "source": [
        "error"
      ],
      "execution_count": 26,
      "outputs": [
        {
          "output_type": "execute_result",
          "data": {
            "text/plain": [
              "0      3.041111\n",
              "1      0.964314\n",
              "2      0.611073\n",
              "3     -0.214170\n",
              "4     -1.578667\n",
              "         ...   \n",
              "195   -0.495069\n",
              "196    1.206319\n",
              "197   -0.516651\n",
              "198   -0.026771\n",
              "199   -0.515181\n",
              "Name: y, Length: 200, dtype: float64"
            ]
          },
          "metadata": {
            "tags": []
          },
          "execution_count": 26
        }
      ]
    },
    {
      "cell_type": "code",
      "metadata": {
        "colab": {
          "base_uri": "https://localhost:8080/",
          "height": 296
        },
        "id": "auqX2AODiTVh",
        "outputId": "3d6ca8d5-10df-4aee-dc7f-2ce197536f01"
      },
      "source": [
        "plt.scatter(x=pred, y=data['y'])\n",
        "plt.xlabel('Predictions')\n",
        "plt.ylabel('Real value')"
      ],
      "execution_count": 27,
      "outputs": [
        {
          "output_type": "execute_result",
          "data": {
            "text/plain": [
              "Text(0, 0.5, 'Real value')"
            ]
          },
          "metadata": {
            "tags": []
          },
          "execution_count": 27
        },
        {
          "output_type": "display_data",
          "data": {
            "image/png": "[encoded data removed]",
            "text/plain": [
              "<Figure size 432x288 with 1 Axes>"
            ]
          },
          "metadata": {
            "tags": [],
            "needs_background": "light"
          }
        }
      ]
    },
    {
      "cell_type": "code",
      "metadata": {
        "colab": {
          "base_uri": "https://localhost:8080/",
          "height": 296
        },
        "id": "QKtsishIiWTh",
        "outputId": "cfd05143-d8f6-45b9-9f8a-e13155a5a1e6"
      },
      "source": [
        "plt.scatter(y=error, x=data['x'])\n",
        "plt.ylabel('Residuals')\n",
        "plt.xlabel('Independent variable x')"
      ],
      "execution_count": 28,
      "outputs": [
        {
          "output_type": "execute_result",
          "data": {
            "text/plain": [
              "Text(0.5, 0, 'Independent variable x')"
            ]
          },
          "metadata": {
            "tags": []
          },
          "execution_count": 28
        },
        {
          "output_type": "display_data",
          "data": {
            "image/png": "[encoded data removed]",
            "text/plain": [
              "<Figure size 432x288 with 1 Axes>"
            ]
          },
          "metadata": {
            "tags": [],
            "needs_background": "light"
          }
        }
      ]
    },
    {
      "cell_type": "code",
      "metadata": {
        "colab": {
          "base_uri": "https://localhost:8080/",
          "height": 350
        },
        "id": "MTaf9pVGiZLk",
        "outputId": "bc04ae5d-f314-40ab-ae32-3f6e029d844e"
      },
      "source": [
        "sns.distplot(error, bins=30)\n",
        "plt.xlabel('Residuals')"
      ],
      "execution_count": 29,
      "outputs": [
        {
          "output_type": "stream",
          "text": [
            "/usr/local/lib/python3.7/dist-packages/seaborn/distributions.py:2557: FutureWarning: `distplot` is a deprecated function and will be removed in a future version. Please adapt your code to use either `displot` (a figure-level function with similar flexibility) or `histplot` (an axes-level function for histograms).\n",
            "  warnings.warn(msg, FutureWarning)\n"
          ],
          "name": "stderr"
        },
        {
          "output_type": "execute_result",
          "data": {
            "text/plain": [
              "Text(0.5, 0, 'Residuals')"
            ]
          },
          "metadata": {
            "tags": []
          },
          "execution_count": 29
        },
        {
          "output_type": "display_data",
          "data": {
            "image/png": "[encoded data removed]",
            "text/plain": [
              "<Figure size 432x288 with 1 Axes>"
            ]
          },
          "metadata": {
            "tags": [],
            "needs_background": "light"
          }
        }
      ]
    },
    {
      "cell_type": "code",
      "metadata": {
        "id": "gRDErKiuibmc"
      },
      "source": [
        "# call the linear model from sklearn\n",
        "linreg = LinearRegression()"
      ],
      "execution_count": 30,
      "outputs": []
    },
    {
      "cell_type": "code",
      "metadata": {
        "colab": {
          "base_uri": "https://localhost:8080/"
        },
        "id": "YnQqNeI9ieia",
        "outputId": "2f5b7a3f-1a6f-4d2b-9c2f-dc45985a91bc"
      },
      "source": [
        "# fit the model\n",
        "linreg.fit(boston['LSTAT'].to_frame(), boston['MEDV'])"
      ],
      "execution_count": 31,
      "outputs": [
        {
          "output_type": "execute_result",
          "data": {
            "text/plain": [
              "LinearRegression(copy_X=True, fit_intercept=True, n_jobs=None, normalize=False)"
            ]
          },
          "metadata": {
            "tags": []
          },
          "execution_count": 31
        }
      ]
    },
    {
      "cell_type": "code",
      "metadata": {
        "id": "K-IhQEZRihyf"
      },
      "source": [
        "# make the predictions\n",
        "pred = linreg.predict(boston['LSTAT'].to_frame())"
      ],
      "execution_count": 32,
      "outputs": []
    },
    {
      "cell_type": "code",
      "metadata": {
        "id": "LxNeum_KikNl"
      },
      "source": [
        "# calculate the residuals\n",
        "error = boston['MEDV'] - pred"
      ],
      "execution_count": 33,
      "outputs": []
    },
    {
      "cell_type": "code",
      "metadata": {
        "colab": {
          "base_uri": "https://localhost:8080/",
          "height": 296
        },
        "id": "R17V4YJ8imGE",
        "outputId": "b68dcef8-dab9-4577-c648-0f118d110965"
      },
      "source": [
        "# plot predicted vs real\n",
        "plt.scatter(x=pred, y=boston['MEDV'])\n",
        "plt.xlabel('Predictions')\n",
        "plt.ylabel('MEDV')"
      ],
      "execution_count": 34,
      "outputs": [
        {
          "output_type": "execute_result",
          "data": {
            "text/plain": [
              "Text(0, 0.5, 'MEDV')"
            ]
          },
          "metadata": {
            "tags": []
          },
          "execution_count": 34
        },
        {
          "output_type": "display_data",
          "data": {
            "image/png": "[encoded data removed]",
            "text/plain": [
              "<Figure size 432x288 with 1 Axes>"
            ]
          },
          "metadata": {
            "tags": [],
            "needs_background": "light"
          }
        }
      ]
    },
    {
      "cell_type": "code",
      "metadata": {
        "colab": {
          "base_uri": "https://localhost:8080/",
          "height": 296
        },
        "id": "5Z2sI86Cinug",
        "outputId": "745b6678-3ed4-4da7-856d-2e97cef46f04"
      },
      "source": [
        "# Residuals plot\n",
        "\n",
        "# if the relationship is linear, the noise should be\n",
        "# random, centered around zero, and follow a normal distribution\n",
        "\n",
        "plt.scatter(y=error, x=boston['LSTAT'])\n",
        "plt.ylabel('Residuals')\n",
        "plt.xlabel('LSTAT')"
      ],
      "execution_count": 35,
      "outputs": [
        {
          "output_type": "execute_result",
          "data": {
            "text/plain": [
              "Text(0.5, 0, 'LSTAT')"
            ]
          },
          "metadata": {
            "tags": []
          },
          "execution_count": 35
        },
        {
          "output_type": "display_data",
          "data": {
            "image/png": "[encoded data removed]",
            "text/plain": [
              "<Figure size 432x288 with 1 Axes>"
            ]
          },
          "metadata": {
            "tags": [],
            "needs_background": "light"
          }
        }
      ]
    },
    {
      "cell_type": "code",
      "metadata": {
        "colab": {
          "base_uri": "https://localhost:8080/",
          "height": 353
        },
        "id": "3Nzu3fTuiql6",
        "outputId": "cb8a6993-2f9a-4045-965c-853c20834643"
      },
      "source": [
        "# plot a histogram of the residuals\n",
        "# they should follow a gaussian distribution\n",
        "sns.distplot(error, bins=30)"
      ],
      "execution_count": 36,
      "outputs": [
        {
          "output_type": "stream",
          "text": [
            "/usr/local/lib/python3.7/dist-packages/seaborn/distributions.py:2557: FutureWarning: `distplot` is a deprecated function and will be removed in a future version. Please adapt your code to use either `displot` (a figure-level function with similar flexibility) or `histplot` (an axes-level function for histograms).\n",
            "  warnings.warn(msg, FutureWarning)\n"
          ],
          "name": "stderr"
        },
        {
          "output_type": "execute_result",
          "data": {
            "text/plain": [
              "<matplotlib.axes._subplots.AxesSubplot at 0x7f64e75af750>"
            ]
          },
          "metadata": {
            "tags": []
          },
          "execution_count": 36
        },
        {
          "output_type": "display_data",
          "data": {
            "image/png": "[encoded data removed]",
            "text/plain": [
              "<Figure size 432x288 with 1 Axes>"
            ]
          },
          "metadata": {
            "tags": [],
            "needs_background": "light"
          }
        }
      ]
    },
    {
      "cell_type": "code",
      "metadata": {
        "id": "qjhx3eLkiswr"
      },
      "source": [
        ""
      ],
      "execution_count": null,
      "outputs": []
    }
  ]
}